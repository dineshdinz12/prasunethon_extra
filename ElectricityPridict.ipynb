{
  "nbformat": 4,
  "nbformat_minor": 0,
  "metadata": {
    "colab": {
      "provenance": [],
      "include_colab_link": true
    },
    "kernelspec": {
      "name": "python3",
      "display_name": "Python 3"
    },
    "language_info": {
      "name": "python"
    }
  },
  "cells": [
    {
      "cell_type": "markdown",
      "metadata": {
        "id": "view-in-github",
        "colab_type": "text"
      },
      "source": [
        "<a href=\"https://colab.research.google.com/github/dineshdinz12/prasunethon_extra/blob/main/ElectricityPridict.ipynb\" target=\"_parent\"><img src=\"https://colab.research.google.com/assets/colab-badge.svg\" alt=\"Open In Colab\"/></a>"
      ]
    },
    {
      "cell_type": "markdown",
      "source": [
        "**Explanation:**\n",
        "\n",
        "**Random Data Generation:**\n",
        "\n",
        "Using NumPy's np.random.randint() function, random integer values are generated for each type of electricity consumption (domestic, commercial, industry, public, others).\n",
        "Total Consumption Calculation:\n",
        "\n",
        "The total consumption is computed by summing up all types of consumption.\n",
        "\n",
        "**DataFrame Creation:**\n",
        "\n",
        "All generated data is stored in a pandas DataFrame.\n",
        "\n",
        "**Output:**\n",
        "\n",
        "The first few rows of the DataFrame are printed to verify the dataset's structure.\n",
        "The dataset is saved as a CSV file named electricity_consumption_chennai.csv in the current working directory."
      ],
      "metadata": {
        "id": "-UA4lM7Ch74C"
      }
    },
    {
      "cell_type": "code",
      "source": [
        "import pandas as pd\n",
        "import numpy as np\n",
        "\n",
        "# Define the number of samples (rows) for the dataset\n",
        "num_samples = 100\n",
        "\n",
        "# Generate random data for electricity consumption\n",
        "np.random.seed(0)  # For reproducibility\n",
        "\n",
        "data = {\n",
        "    'City Name': ['Chennai'] * num_samples,\n",
        "    'Consumption_Domestic': np.random.randint(800, 1500, num_samples),\n",
        "    'Consumption_Commercial': np.random.randint(600, 1000, num_samples),\n",
        "    'Consumption_Industry': np.random.randint(400, 600, num_samples),\n",
        "    'Consumption_Public': np.random.randint(200, 400, num_samples),\n",
        "    'Consumption_Others': np.random.randint(100, 200, num_samples)\n",
        "}\n",
        "\n",
        "# Calculate total consumption as the sum of all types\n",
        "data['Total_Consumption'] = (data['Consumption_Domestic'] +\n",
        "                             data['Consumption_Commercial'] +\n",
        "                             data['Consumption_Industry'] +\n",
        "                             data['Consumption_Public'] +\n",
        "                             data['Consumption_Others'])\n",
        "\n",
        "# Create a pandas DataFrame\n",
        "df = pd.DataFrame(data)\n",
        "\n",
        "# Display the first few rows of the dataframe\n",
        "print(df.head())\n",
        "\n",
        "# Save the dataset to a CSV file\n",
        "df.to_csv('electricity_consumption_chennai.csv', index=False)\n",
        "print(\"Dataset saved as electricity_consumption_chennai.csv\")\n"
      ],
      "metadata": {
        "colab": {
          "base_uri": "https://localhost:8080/"
        },
        "id": "PwbO_oOugasL",
        "outputId": "12d9c0b4-06d1-4597-fc83-5e26bb6a7d80"
      },
      "execution_count": null,
      "outputs": [
        {
          "output_type": "stream",
          "name": "stdout",
          "text": [
            "  City Name  Consumption_Domestic  Consumption_Commercial  \\\n",
            "0   Chennai                  1484                     787   \n",
            "1   Chennai                  1359                     730   \n",
            "2   Chennai                  1429                     977   \n",
            "3   Chennai                   992                     698   \n",
            "4   Chennai                  1159                     662   \n",
            "\n",
            "   Consumption_Industry  Consumption_Public  Consumption_Others  \\\n",
            "0                   467                 292                 138   \n",
            "1                   403                 243                 139   \n",
            "2                   435                 283                 108   \n",
            "3                   589                 377                 113   \n",
            "4                   597                 241                 107   \n",
            "\n",
            "   Total_Consumption  \n",
            "0               3168  \n",
            "1               2874  \n",
            "2               3232  \n",
            "3               2769  \n",
            "4               2766  \n",
            "Dataset saved as electricity_consumption_chennai.csv\n"
          ]
        }
      ]
    },
    {
      "cell_type": "markdown",
      "source": [
        "**Step 1:** Preprocess the Data\n",
        "First, load the dataset and perform necessary preprocessing"
      ],
      "metadata": {
        "id": "geKteu5aiWKI"
      }
    },
    {
      "cell_type": "code",
      "source": [
        "import pandas as pd\n",
        "from sklearn.model_selection import train_test_split\n",
        "from sklearn.preprocessing import StandardScaler\n",
        "\n",
        "# Load the dataset\n",
        "df = pd.read_csv('electricity_consumption_chennai.csv')\n",
        "\n",
        "# Separate features and target variable\n",
        "X = df[['Consumption_Domestic', 'Consumption_Commercial', 'Consumption_Industry',\n",
        "        'Consumption_Public', 'Consumption_Others']]\n",
        "y = df['Total_Consumption']\n",
        "\n",
        "# Optionally, perform feature scaling if necessary\n",
        "scaler = StandardScaler()\n",
        "X_scaled = scaler.fit_transform(X)\n",
        "\n",
        "# Print the first few rows of X and y to verify\n",
        "print(\"Features (X):\\n\", X.head())\n",
        "print(\"\\nTarget (y):\\n\", y.head())\n"
      ],
      "metadata": {
        "colab": {
          "base_uri": "https://localhost:8080/"
        },
        "id": "C1heNa4cgbVH",
        "outputId": "4b211642-a3cc-40d1-a319-520e66ad4fb8"
      },
      "execution_count": null,
      "outputs": [
        {
          "output_type": "stream",
          "name": "stdout",
          "text": [
            "Features (X):\n",
            "    Consumption_Domestic  Consumption_Commercial  Consumption_Industry  \\\n",
            "0                  1484                     787                   467   \n",
            "1                  1359                     730                   403   \n",
            "2                  1429                     977                   435   \n",
            "3                   992                     698                   589   \n",
            "4                  1159                     662                   597   \n",
            "\n",
            "   Consumption_Public  Consumption_Others  \n",
            "0                 292                 138  \n",
            "1                 243                 139  \n",
            "2                 283                 108  \n",
            "3                 377                 113  \n",
            "4                 241                 107  \n",
            "\n",
            "Target (y):\n",
            " 0    3168\n",
            "1    2874\n",
            "2    3232\n",
            "3    2769\n",
            "4    2766\n",
            "Name: Total_Consumption, dtype: int64\n"
          ]
        }
      ]
    },
    {
      "cell_type": "markdown",
      "source": [
        "**Step 2:** Split Data into Training and Testing Sets\n",
        "\n",
        "Split the dataset into training and testing sets (80% training, 20% testing):"
      ],
      "metadata": {
        "id": "8rsLdC5QihFb"
      }
    },
    {
      "cell_type": "code",
      "source": [
        "X_train, X_test, y_train, y_test = train_test_split(X_scaled, y, test_size=0.2, random_state=42)\n",
        "\n",
        "print(\"Training set size:\", X_train.shape[0])\n",
        "print(\"Testing set size:\", X_test.shape[0])\n"
      ],
      "metadata": {
        "colab": {
          "base_uri": "https://localhost:8080/"
        },
        "id": "2U371R_DgtaQ",
        "outputId": "5d1bc70c-a7a9-49b0-97d6-1cd0794f6adb"
      },
      "execution_count": null,
      "outputs": [
        {
          "output_type": "stream",
          "name": "stdout",
          "text": [
            "Training set size: 80\n",
            "Testing set size: 20\n"
          ]
        }
      ]
    },
    {
      "cell_type": "markdown",
      "source": [
        "**Step 3:** Train a Regression Model\n",
        "\n",
        "Choose a regression model and train it on the training data:"
      ],
      "metadata": {
        "id": "ci9Vz1ZPiqdG"
      }
    },
    {
      "cell_type": "code",
      "source": [
        "from sklearn.linear_model import LinearRegression\n",
        "from sklearn.metrics import mean_squared_error, r2_score\n",
        "\n",
        "# Initialize the model\n",
        "model = LinearRegression()\n",
        "\n",
        "# Train the model\n",
        "model.fit(X_train, y_train)\n",
        "\n",
        "# Predict on the test set\n",
        "y_pred = model.predict(X_test)\n",
        "\n",
        "# Evaluate the model\n",
        "mse = mean_squared_error(y_test, y_pred)\n",
        "r2 = r2_score(y_test, y_pred)\n",
        "\n",
        "print(\"Mean Squared Error (MSE):\", mse)\n",
        "print(\"R-squared (R2) Score:\", r2)\n"
      ],
      "metadata": {
        "colab": {
          "base_uri": "https://localhost:8080/"
        },
        "id": "X23cEUzagxCH",
        "outputId": "bf6bdd1e-3832-4076-c0a6-26a54e7b3f77"
      },
      "execution_count": null,
      "outputs": [
        {
          "output_type": "stream",
          "name": "stdout",
          "text": [
            "Mean Squared Error (MSE): 6.203854594147707e-26\n",
            "R-squared (R2) Score: 1.0\n"
          ]
        }
      ]
    },
    {
      "cell_type": "markdown",
      "source": [
        "**Step 4:** Output Analysis\n",
        "\n",
        "Print and analyze the model's performance metrics:"
      ],
      "metadata": {
        "id": "7EbxqrpNiy9P"
      }
    },
    {
      "cell_type": "code",
      "source": [
        "# Print some predictions and actual values for comparison\n",
        "comparison_df = pd.DataFrame({'Actual': y_test, 'Predicted': y_pred})\n",
        "print(\"\\nComparison of Actual vs Predicted Values:\\n\", comparison_df.head(10))\n"
      ],
      "metadata": {
        "colab": {
          "base_uri": "https://localhost:8080/"
        },
        "id": "ELibmn6ig0DU",
        "outputId": "5c5bf842-7d71-4dba-a122-64e7d34943fe"
      },
      "execution_count": null,
      "outputs": [
        {
          "output_type": "stream",
          "name": "stdout",
          "text": [
            "\n",
            "Comparison of Actual vs Predicted Values:\n",
            "     Actual  Predicted\n",
            "83    2678     2678.0\n",
            "53    3142     3142.0\n",
            "70    3492     3492.0\n",
            "45    3233     3233.0\n",
            "44    2719     2719.0\n",
            "39    2714     2714.0\n",
            "22    3169     3169.0\n",
            "80    2375     2375.0\n",
            "10    3218     3218.0\n",
            "0     3168     3168.0\n"
          ]
        }
      ]
    },
    {
      "cell_type": "code",
      "source": [
        "from sklearn.model_selection import cross_val_score\n",
        "\n",
        "# Perform cross-validation\n",
        "cv_scores = cross_val_score(model, X_scaled, y, cv=5)\n",
        "\n",
        "print(\"Cross-Validation Scores:\", cv_scores)\n",
        "print(\"Mean Cross-Validation Score:\", np.mean(cv_scores))\n"
      ],
      "metadata": {
        "colab": {
          "base_uri": "https://localhost:8080/"
        },
        "id": "yBEM-73cg2k9",
        "outputId": "c26fdccf-157f-4c05-8100-54de940ea0bd"
      },
      "execution_count": null,
      "outputs": [
        {
          "output_type": "stream",
          "name": "stdout",
          "text": [
            "Cross-Validation Scores: [1. 1. 1. 1. 1.]\n",
            "Mean Cross-Validation Score: 1.0\n"
          ]
        }
      ]
    },
    {
      "cell_type": "code",
      "source": [],
      "metadata": {
        "id": "mecJmRq3hcJk"
      },
      "execution_count": null,
      "outputs": []
    }
  ]
}